{
  "nbformat": 4,
  "nbformat_minor": 0,
  "metadata": {
    "colab": {
      "name": "Kaggle_In_Class.ipynb",
      "provenance": []
    },
    "kernelspec": {
      "name": "python3",
      "display_name": "Python 3"
    },
    "language_info": {
      "name": "python"
    }
  },
  "cells": [
    {
      "cell_type": "code",
      "execution_count": 1,
      "metadata": {
        "colab": {
          "base_uri": "https://localhost:8080/"
        },
        "id": "tXks1O_7qO7h",
        "outputId": "bf83bc05-4a38-44d0-bd78-2e689b6403aa"
      },
      "outputs": [
        {
          "output_type": "stream",
          "name": "stdout",
          "text": [
            "/content/drive/MyDrive/InClass_Kaggle\n"
          ]
        }
      ],
      "source": [
        "cd drive/MyDrive/InClass_Kaggle/"
      ]
    },
    {
      "cell_type": "code",
      "source": [
        "import pandas as pd\n",
        "import numpy as np"
      ],
      "metadata": {
        "id": "ReqK4vgYq38r"
      },
      "execution_count": 2,
      "outputs": []
    },
    {
      "cell_type": "code",
      "source": [
        "df = pd.read_csv('./train.csv', names=[\"id\", \"MO\", \"Neu\", \"CD3\", 'CD8', \"CD4\", 'NK', 'CD19', 'CD45', 'age', 'sex', 'Mono', 'label'], header=0)"
      ],
      "metadata": {
        "id": "YJdLZ2yz4v9u"
      },
      "execution_count": 3,
      "outputs": []
    },
    {
      "cell_type": "code",
      "source": [
        "boxplot = df.boxplot(column=[\"MO\", \"Neu\", \"CD3\", 'CD8', \"CD4\", 'NK', 'CD19', 'CD45', 'Mono']) "
      ],
      "metadata": {
        "colab": {
          "base_uri": "https://localhost:8080/",
          "height": 320
        },
        "id": "p62cHPq8uy6h",
        "outputId": "8b7565b2-395c-4c70-a983-31820ee915e4"
      },
      "execution_count": 4,
      "outputs": [
        {
          "output_type": "stream",
          "name": "stderr",
          "text": [
            "/usr/local/lib/python3.7/dist-packages/matplotlib/cbook/__init__.py:1376: VisibleDeprecationWarning: Creating an ndarray from ragged nested sequences (which is a list-or-tuple of lists-or-tuples-or ndarrays with different lengths or shapes) is deprecated. If you meant to do this, you must specify 'dtype=object' when creating the ndarray.\n",
            "  X = np.atleast_1d(X.T if isinstance(X, np.ndarray) else np.asarray(X))\n"
          ]
        },
        {
          "output_type": "display_data",
          "data": {
            "text/plain": [
              "<Figure size 432x288 with 1 Axes>"
            ],
            "image/png": "[encoded data removed]"
          },
          "metadata": {
            "needs_background": "light"
          }
        }
      ]
    },
    {
      "cell_type": "code",
      "source": [
        "df.head()"
      ],
      "metadata": {
        "colab": {
          "base_uri": "https://localhost:8080/",
          "height": 206
        },
        "id": "hkaJQzV_41_s",
        "outputId": "242816a6-33e1-4916-f876-26024d0a05e1"
      },
      "execution_count": 28,
      "outputs": [
        {
          "output_type": "execute_result",
          "data": {
            "text/plain": [
              "   id      MO     Neu      CD3     CD8     CD4      NK    CD19     CD45  age  \\\n",
              "0   0  3556.0  2489.0   265.19   77.53  176.55    0.00    4.20   307.91   52   \n",
              "1   1  1906.0   134.0  1442.61  551.90  876.07  112.10  168.15  1735.48   20   \n",
              "2   2  1586.0    71.0  1332.74  684.20  655.26  244.95  216.52  1820.04   28   \n",
              "3   3   683.0    94.0   419.23  255.80  162.17   72.05   44.68   538.22   55   \n",
              "4   4  1032.0    71.0  1102.72  480.27  625.30  188.78  130.77  1427.97   28   \n",
              "\n",
              "   sex    Mono  label  \n",
              "0    0  7515.0      1  \n",
              "1    1  1756.0      0  \n",
              "2    1  1311.0      0  \n",
              "3    1  1443.0      0  \n",
              "4    1  1542.0      0  "
            ],
            "text/html": [
              "\n",
              "  <div id=\"df-7d41ac0b-b213-402e-b558-8e4806c73bf4\">\n",
              "    <div class=\"colab-df-container\">\n",
              "      <div>\n",
              "<style scoped>\n",
              "    .dataframe tbody tr th:only-of-type {\n",
              "        vertical-align: middle;\n",
              "    }\n",
              "\n",
              "    .dataframe tbody tr th {\n",
              "        vertical-align: top;\n",
              "    }\n",
              "\n",
              "    .dataframe thead th {\n",
              "        text-align: right;\n",
              "    }\n",
              "</style>\n",
              "<table border=\"1\" class=\"dataframe\">\n",
              "  <thead>\n",
              "    <tr style=\"text-align: right;\">\n",
              "      <th></th>\n",
              "      <th>id</th>\n",
              "      <th>MO</th>\n",
              "      <th>Neu</th>\n",
              "      <th>CD3</th>\n",
              "      <th>CD8</th>\n",
              "      <th>CD4</th>\n",
              "      <th>NK</th>\n",
              "      <th>CD19</th>\n",
              "      <th>CD45</th>\n",
              "      <th>age</th>\n",
              "      <th>sex</th>\n",
              "      <th>Mono</th>\n",
              "      <th>label</th>\n",
              "    </tr>\n",
              "  </thead>\n",
              "  <tbody>\n",
              "    <tr>\n",
              "      <th>0</th>\n",
              "      <td>0</td>\n",
              "      <td>3556.0</td>\n",
              "      <td>2489.0</td>\n",
              "      <td>265.19</td>\n",
              "      <td>77.53</td>\n",
              "      <td>176.55</td>\n",
              "      <td>0.00</td>\n",
              "      <td>4.20</td>\n",
              "      <td>307.91</td>\n",
              "      <td>52</td>\n",
              "      <td>0</td>\n",
              "      <td>7515.0</td>\n",
              "      <td>1</td>\n",
              "    </tr>\n",
              "    <tr>\n",
              "      <th>1</th>\n",
              "      <td>1</td>\n",
              "      <td>1906.0</td>\n",
              "      <td>134.0</td>\n",
              "      <td>1442.61</td>\n",
              "      <td>551.90</td>\n",
              "      <td>876.07</td>\n",
              "      <td>112.10</td>\n",
              "      <td>168.15</td>\n",
              "      <td>1735.48</td>\n",
              "      <td>20</td>\n",
              "      <td>1</td>\n",
              "      <td>1756.0</td>\n",
              "      <td>0</td>\n",
              "    </tr>\n",
              "    <tr>\n",
              "      <th>2</th>\n",
              "      <td>2</td>\n",
              "      <td>1586.0</td>\n",
              "      <td>71.0</td>\n",
              "      <td>1332.74</td>\n",
              "      <td>684.20</td>\n",
              "      <td>655.26</td>\n",
              "      <td>244.95</td>\n",
              "      <td>216.52</td>\n",
              "      <td>1820.04</td>\n",
              "      <td>28</td>\n",
              "      <td>1</td>\n",
              "      <td>1311.0</td>\n",
              "      <td>0</td>\n",
              "    </tr>\n",
              "    <tr>\n",
              "      <th>3</th>\n",
              "      <td>3</td>\n",
              "      <td>683.0</td>\n",
              "      <td>94.0</td>\n",
              "      <td>419.23</td>\n",
              "      <td>255.80</td>\n",
              "      <td>162.17</td>\n",
              "      <td>72.05</td>\n",
              "      <td>44.68</td>\n",
              "      <td>538.22</td>\n",
              "      <td>55</td>\n",
              "      <td>1</td>\n",
              "      <td>1443.0</td>\n",
              "      <td>0</td>\n",
              "    </tr>\n",
              "    <tr>\n",
              "      <th>4</th>\n",
              "      <td>4</td>\n",
              "      <td>1032.0</td>\n",
              "      <td>71.0</td>\n",
              "      <td>1102.72</td>\n",
              "      <td>480.27</td>\n",
              "      <td>625.30</td>\n",
              "      <td>188.78</td>\n",
              "      <td>130.77</td>\n",
              "      <td>1427.97</td>\n",
              "      <td>28</td>\n",
              "      <td>1</td>\n",
              "      <td>1542.0</td>\n",
              "      <td>0</td>\n",
              "    </tr>\n",
              "  </tbody>\n",
              "</table>\n",
              "</div>\n",
              "      <button class=\"colab-df-convert\" onclick=\"convertToInteractive('df-7d41ac0b-b213-402e-b558-8e4806c73bf4')\"\n",
              "              title=\"Convert this dataframe to an interactive table.\"\n",
              "              style=\"display:none;\">\n",
              "        \n",
              "  <svg xmlns=\"http://www.w3.org/2000/svg\" height=\"24px\"viewBox=\"0 0 24 24\"\n",
              "       width=\"24px\">\n",
              "    <path d=\"M0 0h24v24H0V0z\" fill=\"none\"/>\n",
              "    <path d=\"M18.56 5.44l.94 2.06.94-2.06 2.06-.94-2.06-.94-.94-2.06-.94 2.06-2.06.94zm-11 1L8.5 8.5l.94-2.06 2.06-.94-2.06-.94L8.5 2.5l-.94 2.06-2.06.94zm10 10l.94 2.06.94-2.06 2.06-.94-2.06-.94-.94-2.06-.94 2.06-2.06.94z\"/><path d=\"M17.41 7.96l-1.37-1.37c-.4-.4-.92-.59-1.43-.59-.52 0-1.04.2-1.43.59L10.3 9.45l-7.72 7.72c-.78.78-.78 2.05 0 2.83L4 21.41c.39.39.9.59 1.41.59.51 0 1.02-.2 1.41-.59l7.78-7.78 2.81-2.81c.8-.78.8-2.07 0-2.86zM5.41 20L4 18.59l7.72-7.72 1.47 1.35L5.41 20z\"/>\n",
              "  </svg>\n",
              "      </button>\n",
              "      \n",
              "  <style>\n",
              "    .colab-df-container {\n",
              "      display:flex;\n",
              "      flex-wrap:wrap;\n",
              "      gap: 12px;\n",
              "    }\n",
              "\n",
              "    .colab-df-convert {\n",
              "      background-color: #E8F0FE;\n",
              "      border: none;\n",
              "      border-radius: 50%;\n",
              "      cursor: pointer;\n",
              "      display: none;\n",
              "      fill: #1967D2;\n",
              "      height: 32px;\n",
              "      padding: 0 0 0 0;\n",
              "      width: 32px;\n",
              "    }\n",
              "\n",
              "    .colab-df-convert:hover {\n",
              "      background-color: #E2EBFA;\n",
              "      box-shadow: 0px 1px 2px rgba(60, 64, 67, 0.3), 0px 1px 3px 1px rgba(60, 64, 67, 0.15);\n",
              "      fill: #174EA6;\n",
              "    }\n",
              "\n",
              "    [theme=dark] .colab-df-convert {\n",
              "      background-color: #3B4455;\n",
              "      fill: #D2E3FC;\n",
              "    }\n",
              "\n",
              "    [theme=dark] .colab-df-convert:hover {\n",
              "      background-color: #434B5C;\n",
              "      box-shadow: 0px 1px 3px 1px rgba(0, 0, 0, 0.15);\n",
              "      filter: drop-shadow(0px 1px 2px rgba(0, 0, 0, 0.3));\n",
              "      fill: #FFFFFF;\n",
              "    }\n",
              "  </style>\n",
              "\n",
              "      <script>\n",
              "        const buttonEl =\n",
              "          document.querySelector('#df-7d41ac0b-b213-402e-b558-8e4806c73bf4 button.colab-df-convert');\n",
              "        buttonEl.style.display =\n",
              "          google.colab.kernel.accessAllowed ? 'block' : 'none';\n",
              "\n",
              "        async function convertToInteractive(key) {\n",
              "          const element = document.querySelector('#df-7d41ac0b-b213-402e-b558-8e4806c73bf4');\n",
              "          const dataTable =\n",
              "            await google.colab.kernel.invokeFunction('convertToInteractive',\n",
              "                                                     [key], {});\n",
              "          if (!dataTable) return;\n",
              "\n",
              "          const docLinkHtml = 'Like what you see? Visit the ' +\n",
              "            '<a target=\"_blank\" href=https://colab.research.google.com/notebooks/data_table.ipynb>data table notebook</a>'\n",
              "            + ' to learn more about interactive tables.';\n",
              "          element.innerHTML = '';\n",
              "          dataTable['output_type'] = 'display_data';\n",
              "          await google.colab.output.renderOutput(dataTable, element);\n",
              "          const docLink = document.createElement('div');\n",
              "          docLink.innerHTML = docLinkHtml;\n",
              "          element.appendChild(docLink);\n",
              "        }\n",
              "      </script>\n",
              "    </div>\n",
              "  </div>\n",
              "  "
            ]
          },
          "metadata": {},
          "execution_count": 28
        }
      ]
    },
    {
      "cell_type": "code",
      "source": [
        "df.dropna(axis=0, how='any', inplace=True)"
      ],
      "metadata": {
        "id": "gGKOjlGk49h8"
      },
      "execution_count": 5,
      "outputs": []
    },
    {
      "cell_type": "code",
      "source": [
        "df['label'].value_counts()"
      ],
      "metadata": {
        "colab": {
          "base_uri": "https://localhost:8080/"
        },
        "id": "Vc49tmeE5p_2",
        "outputId": "d5c67e47-9b36-4cf2-d160-9a1188d9281c"
      },
      "execution_count": 7,
      "outputs": [
        {
          "output_type": "execute_result",
          "data": {
            "text/plain": [
              "0    57\n",
              "1    29\n",
              "Name: label, dtype: int64"
            ]
          },
          "metadata": {},
          "execution_count": 7
        }
      ]
    },
    {
      "cell_type": "code",
      "source": [
        "train_X = df.iloc[:,1:12]\n",
        "train_Y = df['label']"
      ],
      "metadata": {
        "id": "aDdcHpmK5A6I"
      },
      "execution_count": 10,
      "outputs": []
    },
    {
      "cell_type": "code",
      "source": [
        "from sklearn.model_selection import GridSearchCV"
      ],
      "metadata": {
        "id": "rp7Scd9z8JAc"
      },
      "execution_count": 8,
      "outputs": []
    },
    {
      "cell_type": "code",
      "source": [
        "from sklearn.ensemble import RandomForestClassifier\n",
        "parameters = {'n_estimators': range(10, 50, 5), 'max_depth': range(2, 15, 1), 'criterion': ['gini', 'entropy']}\n",
        "RF = RandomForestClassifier()\n",
        "clf1 = GridSearchCV(RF, parameters, cv=10)\n",
        "clf1.fit(train_X, train_Y)"
      ],
      "metadata": {
        "colab": {
          "base_uri": "https://localhost:8080/"
        },
        "id": "nWuEhhYGRtsJ",
        "outputId": "14f8562c-54a0-4dae-812e-e5813a382b42"
      },
      "execution_count": 11,
      "outputs": [
        {
          "output_type": "execute_result",
          "data": {
            "text/plain": [
              "GridSearchCV(cv=10, estimator=RandomForestClassifier(),\n",
              "             param_grid={'criterion': ['gini', 'entropy'],\n",
              "                         'max_depth': range(2, 15),\n",
              "                         'n_estimators': range(10, 50, 5)})"
            ]
          },
          "metadata": {},
          "execution_count": 11
        }
      ]
    },
    {
      "cell_type": "code",
      "source": [
        "clf1.best_score_"
      ],
      "metadata": {
        "colab": {
          "base_uri": "https://localhost:8080/"
        },
        "id": "y0C-m0feR9Zh",
        "outputId": "e21897f7-fc6c-4a0a-8a95-74ecd07c1878"
      },
      "execution_count": 16,
      "outputs": [
        {
          "output_type": "execute_result",
          "data": {
            "text/plain": [
              "0.9416666666666667"
            ]
          },
          "metadata": {},
          "execution_count": 16
        }
      ]
    },
    {
      "cell_type": "code",
      "source": [
        "clf1.best_params_"
      ],
      "metadata": {
        "colab": {
          "base_uri": "https://localhost:8080/"
        },
        "id": "pAZ5AQzP9ptY",
        "outputId": "9b9394bb-6255-425d-9738-6fd5624e1910"
      },
      "execution_count": 17,
      "outputs": [
        {
          "output_type": "execute_result",
          "data": {
            "text/plain": [
              "{'criterion': 'entropy', 'max_depth': 10, 'n_estimators': 30}"
            ]
          },
          "metadata": {},
          "execution_count": 17
        }
      ]
    },
    {
      "cell_type": "code",
      "source": [
        "clf1.best_estimator_"
      ],
      "metadata": {
        "colab": {
          "base_uri": "https://localhost:8080/"
        },
        "id": "7rNTszrG-B0Y",
        "outputId": "3ad27f31-52f8-47f7-dd73-c9ee3c0557aa"
      },
      "execution_count": 18,
      "outputs": [
        {
          "output_type": "execute_result",
          "data": {
            "text/plain": [
              "RandomForestClassifier(criterion='entropy', max_depth=10, n_estimators=30)"
            ]
          },
          "metadata": {},
          "execution_count": 18
        }
      ]
    },
    {
      "cell_type": "code",
      "source": [
        "df_test = pd.read_csv('test.csv', names=[\"id\", \"MO\", \"Neu\", \"CD3\", 'CD8', \"CD4\", 'NK', 'CD19', 'CD45', 'age', 'sex', 'Mono'], header=0)\n",
        "df_test = df_test.iloc[:,1:]"
      ],
      "metadata": {
        "id": "bus2I9-9-Paa"
      },
      "execution_count": 19,
      "outputs": []
    },
    {
      "cell_type": "code",
      "source": [
        "df_test.head()"
      ],
      "metadata": {
        "colab": {
          "base_uri": "https://localhost:8080/",
          "height": 206
        },
        "id": "ty95QO7u-X2K",
        "outputId": "c90c7316-3a8e-4e03-da9c-809b8c087e3e"
      },
      "execution_count": 27,
      "outputs": [
        {
          "output_type": "execute_result",
          "data": {
            "text/plain": [
              "       MO    Neu      CD3     CD8     CD4      NK    CD19     CD45  age  sex  \\\n",
              "0  2843.0  156.0  1358.52  730.78  637.85  127.06   94.82  1588.62   45    1   \n",
              "1   437.0  137.0   509.43  268.05  243.07  390.86   98.24  1002.76   51    1   \n",
              "2   826.0   82.0  1232.22  493.42  744.08  516.28  320.15  2200.58   32    0   \n",
              "3   861.0   50.0  1512.86  925.51  590.07  380.25   25.80  1929.10   50    0   \n",
              "4  1160.0  157.0   890.42  403.91  489.53  266.92   87.63  1251.52   43    0   \n",
              "\n",
              "     Mono  \n",
              "0  3256.0  \n",
              "1   491.0  \n",
              "2  1381.0  \n",
              "3  1377.0  \n",
              "4  1844.0  "
            ],
            "text/html": [
              "\n",
              "  <div id=\"df-8886f7eb-7d19-45e9-9fb6-a70c17e60618\">\n",
              "    <div class=\"colab-df-container\">\n",
              "      <div>\n",
              "<style scoped>\n",
              "    .dataframe tbody tr th:only-of-type {\n",
              "        vertical-align: middle;\n",
              "    }\n",
              "\n",
              "    .dataframe tbody tr th {\n",
              "        vertical-align: top;\n",
              "    }\n",
              "\n",
              "    .dataframe thead th {\n",
              "        text-align: right;\n",
              "    }\n",
              "</style>\n",
              "<table border=\"1\" class=\"dataframe\">\n",
              "  <thead>\n",
              "    <tr style=\"text-align: right;\">\n",
              "      <th></th>\n",
              "      <th>MO</th>\n",
              "      <th>Neu</th>\n",
              "      <th>CD3</th>\n",
              "      <th>CD8</th>\n",
              "      <th>CD4</th>\n",
              "      <th>NK</th>\n",
              "      <th>CD19</th>\n",
              "      <th>CD45</th>\n",
              "      <th>age</th>\n",
              "      <th>sex</th>\n",
              "      <th>Mono</th>\n",
              "    </tr>\n",
              "  </thead>\n",
              "  <tbody>\n",
              "    <tr>\n",
              "      <th>0</th>\n",
              "      <td>2843.0</td>\n",
              "      <td>156.0</td>\n",
              "      <td>1358.52</td>\n",
              "      <td>730.78</td>\n",
              "      <td>637.85</td>\n",
              "      <td>127.06</td>\n",
              "      <td>94.82</td>\n",
              "      <td>1588.62</td>\n",
              "      <td>45</td>\n",
              "      <td>1</td>\n",
              "      <td>3256.0</td>\n",
              "    </tr>\n",
              "    <tr>\n",
              "      <th>1</th>\n",
              "      <td>437.0</td>\n",
              "      <td>137.0</td>\n",
              "      <td>509.43</td>\n",
              "      <td>268.05</td>\n",
              "      <td>243.07</td>\n",
              "      <td>390.86</td>\n",
              "      <td>98.24</td>\n",
              "      <td>1002.76</td>\n",
              "      <td>51</td>\n",
              "      <td>1</td>\n",
              "      <td>491.0</td>\n",
              "    </tr>\n",
              "    <tr>\n",
              "      <th>2</th>\n",
              "      <td>826.0</td>\n",
              "      <td>82.0</td>\n",
              "      <td>1232.22</td>\n",
              "      <td>493.42</td>\n",
              "      <td>744.08</td>\n",
              "      <td>516.28</td>\n",
              "      <td>320.15</td>\n",
              "      <td>2200.58</td>\n",
              "      <td>32</td>\n",
              "      <td>0</td>\n",
              "      <td>1381.0</td>\n",
              "    </tr>\n",
              "    <tr>\n",
              "      <th>3</th>\n",
              "      <td>861.0</td>\n",
              "      <td>50.0</td>\n",
              "      <td>1512.86</td>\n",
              "      <td>925.51</td>\n",
              "      <td>590.07</td>\n",
              "      <td>380.25</td>\n",
              "      <td>25.80</td>\n",
              "      <td>1929.10</td>\n",
              "      <td>50</td>\n",
              "      <td>0</td>\n",
              "      <td>1377.0</td>\n",
              "    </tr>\n",
              "    <tr>\n",
              "      <th>4</th>\n",
              "      <td>1160.0</td>\n",
              "      <td>157.0</td>\n",
              "      <td>890.42</td>\n",
              "      <td>403.91</td>\n",
              "      <td>489.53</td>\n",
              "      <td>266.92</td>\n",
              "      <td>87.63</td>\n",
              "      <td>1251.52</td>\n",
              "      <td>43</td>\n",
              "      <td>0</td>\n",
              "      <td>1844.0</td>\n",
              "    </tr>\n",
              "  </tbody>\n",
              "</table>\n",
              "</div>\n",
              "      <button class=\"colab-df-convert\" onclick=\"convertToInteractive('df-8886f7eb-7d19-45e9-9fb6-a70c17e60618')\"\n",
              "              title=\"Convert this dataframe to an interactive table.\"\n",
              "              style=\"display:none;\">\n",
              "        \n",
              "  <svg xmlns=\"http://www.w3.org/2000/svg\" height=\"24px\"viewBox=\"0 0 24 24\"\n",
              "       width=\"24px\">\n",
              "    <path d=\"M0 0h24v24H0V0z\" fill=\"none\"/>\n",
              "    <path d=\"M18.56 5.44l.94 2.06.94-2.06 2.06-.94-2.06-.94-.94-2.06-.94 2.06-2.06.94zm-11 1L8.5 8.5l.94-2.06 2.06-.94-2.06-.94L8.5 2.5l-.94 2.06-2.06.94zm10 10l.94 2.06.94-2.06 2.06-.94-2.06-.94-.94-2.06-.94 2.06-2.06.94z\"/><path d=\"M17.41 7.96l-1.37-1.37c-.4-.4-.92-.59-1.43-.59-.52 0-1.04.2-1.43.59L10.3 9.45l-7.72 7.72c-.78.78-.78 2.05 0 2.83L4 21.41c.39.39.9.59 1.41.59.51 0 1.02-.2 1.41-.59l7.78-7.78 2.81-2.81c.8-.78.8-2.07 0-2.86zM5.41 20L4 18.59l7.72-7.72 1.47 1.35L5.41 20z\"/>\n",
              "  </svg>\n",
              "      </button>\n",
              "      \n",
              "  <style>\n",
              "    .colab-df-container {\n",
              "      display:flex;\n",
              "      flex-wrap:wrap;\n",
              "      gap: 12px;\n",
              "    }\n",
              "\n",
              "    .colab-df-convert {\n",
              "      background-color: #E8F0FE;\n",
              "      border: none;\n",
              "      border-radius: 50%;\n",
              "      cursor: pointer;\n",
              "      display: none;\n",
              "      fill: #1967D2;\n",
              "      height: 32px;\n",
              "      padding: 0 0 0 0;\n",
              "      width: 32px;\n",
              "    }\n",
              "\n",
              "    .colab-df-convert:hover {\n",
              "      background-color: #E2EBFA;\n",
              "      box-shadow: 0px 1px 2px rgba(60, 64, 67, 0.3), 0px 1px 3px 1px rgba(60, 64, 67, 0.15);\n",
              "      fill: #174EA6;\n",
              "    }\n",
              "\n",
              "    [theme=dark] .colab-df-convert {\n",
              "      background-color: #3B4455;\n",
              "      fill: #D2E3FC;\n",
              "    }\n",
              "\n",
              "    [theme=dark] .colab-df-convert:hover {\n",
              "      background-color: #434B5C;\n",
              "      box-shadow: 0px 1px 3px 1px rgba(0, 0, 0, 0.15);\n",
              "      filter: drop-shadow(0px 1px 2px rgba(0, 0, 0, 0.3));\n",
              "      fill: #FFFFFF;\n",
              "    }\n",
              "  </style>\n",
              "\n",
              "      <script>\n",
              "        const buttonEl =\n",
              "          document.querySelector('#df-8886f7eb-7d19-45e9-9fb6-a70c17e60618 button.colab-df-convert');\n",
              "        buttonEl.style.display =\n",
              "          google.colab.kernel.accessAllowed ? 'block' : 'none';\n",
              "\n",
              "        async function convertToInteractive(key) {\n",
              "          const element = document.querySelector('#df-8886f7eb-7d19-45e9-9fb6-a70c17e60618');\n",
              "          const dataTable =\n",
              "            await google.colab.kernel.invokeFunction('convertToInteractive',\n",
              "                                                     [key], {});\n",
              "          if (!dataTable) return;\n",
              "\n",
              "          const docLinkHtml = 'Like what you see? Visit the ' +\n",
              "            '<a target=\"_blank\" href=https://colab.research.google.com/notebooks/data_table.ipynb>data table notebook</a>'\n",
              "            + ' to learn more about interactive tables.';\n",
              "          element.innerHTML = '';\n",
              "          dataTable['output_type'] = 'display_data';\n",
              "          await google.colab.output.renderOutput(dataTable, element);\n",
              "          const docLink = document.createElement('div');\n",
              "          docLink.innerHTML = docLinkHtml;\n",
              "          element.appendChild(docLink);\n",
              "        }\n",
              "      </script>\n",
              "    </div>\n",
              "  </div>\n",
              "  "
            ]
          },
          "metadata": {},
          "execution_count": 27
        }
      ]
    },
    {
      "cell_type": "markdown",
      "source": [
        "# **Semi-Supervised Learning**"
      ],
      "metadata": {
        "id": "wteLgeedHom-"
      }
    },
    {
      "cell_type": "code",
      "source": [
        "pseudo_label=clf1.predict(df_test)\n",
        "new_label = pd.concat([pd.Series(pseudo_label), train_Y])\n",
        "new_train_set =  pd.concat([df_test, train_X])\n",
        "\n",
        "parameters = {'n_estimators': range(10, 50, 5), 'max_depth': range(2, 15, 1), 'criterion': ['gini', 'entropy']}\n",
        "RF = RandomForestClassifier()\n",
        "model = GridSearchCV(RF, parameters, cv=10)\n",
        "model.fit(new_train_set, new_label)\n",
        "final_predict = model.predict(df_test)"
      ],
      "metadata": {
        "id": "y27bkV-7FNek"
      },
      "execution_count": 21,
      "outputs": []
    },
    {
      "cell_type": "code",
      "source": [
        "df_submission = pd.read_csv('./sample_submission.csv')"
      ],
      "metadata": {
        "id": "G3bQzAErhkix"
      },
      "execution_count": 24,
      "outputs": []
    },
    {
      "cell_type": "code",
      "source": [
        "df_submission['label'] = final_predict"
      ],
      "metadata": {
        "id": "mp_cvRfyfo5t"
      },
      "execution_count": 25,
      "outputs": []
    }
  ]
}